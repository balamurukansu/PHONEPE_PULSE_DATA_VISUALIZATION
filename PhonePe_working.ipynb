{
 "cells": [
  {
   "cell_type": "markdown",
   "metadata": {},
   "source": [
    "# Data Extraction\n",
    "Cloning Data from Github \\\n",
    "To clone the Github Pulse repository use the following code \\\n",
    "Reference Syntax - Repo.clone_from(\"Clone Url\", \"Your working directory\") \\\n",
    "Repo.clone_from(\"https://github.com/PhonePe/pulse.git\", \"Project_3_PhonepePulse/Phonepe_data/data\")"
   ]
  },
  {
   "cell_type": "code",
   "execution_count": null,
   "metadata": {},
   "outputs": [],
   "source": [
    "import git\n",
    "repository_url = \"https://github.com/PhonePe/pulse.git\"\n",
    "#Destination_directory.m-\"C:/Users/INFO/Desktop/PHONE_PAY/data\"\n",
    "destination_directory = \"D:/DataScience/Phonepe_Pulse_Data_Visualization_and_Exploration/pulse\"\n",
    "git.Repo.clone_from(repository_url, destination_directory)\n"
   ]
  },
  {
   "cell_type": "markdown",
   "metadata": {},
   "source": [
    "# Importing Libraries"
   ]
  },
  {
   "cell_type": "code",
   "execution_count": 1,
   "metadata": {},
   "outputs": [],
   "source": [
    "import os\n",
    "import pandas as pd\n",
    "import json\n",
    "import mysql.connector\n",
    "from mysql.connector import Error"
   ]
  },
  {
   "cell_type": "code",
   "execution_count": 57,
   "metadata": {},
   "outputs": [],
   "source": [
    "def connect_to_mysql():\n",
    "    conn = mysql.connector.connect(\n",
    "    host='',\n",
    "    user='',    \n",
    "    password=''\n",
    "    )\n",
    "    cursor = conn.cursor()\n",
    "    return \n",
    "\n",
    "# cursor=connect_to_mysql()\n",
    "\n",
    "# cursor.execute(\"USE sgptrrzs_phonepe\")\n",
    "#     # a = cursor.execute(\"select * from Map_trans\")\n",
    "#     # print(a)"
   ]
  },
  {
   "cell_type": "markdown",
   "metadata": {},
   "source": [
    "# Data transformations\n",
    "\n",
    "Dataframe of aggregated Transactions"
   ]
  },
  {
   "cell_type": "code",
   "execution_count": null,
   "metadata": {},
   "outputs": [],
   "source": [
    "#Transaction\n",
    "path1=\"D:/DataScience/Phonepe_Pulse_Data_Visualization_and_Exploration/pulse/data/aggregated/transaction/country/india/state/\"\n",
    "Agg_trans_list=os.listdir(path1)\n",
    "# Agg_trans_list"
   ]
  },
  {
   "cell_type": "code",
   "execution_count": null,
   "metadata": {},
   "outputs": [],
   "source": [
    "col_at = {'State':[],'Year':[],'Quarter':[],'Transaction_Type':[],'Transaction_count':[],'Transaction_amount':[]}\n",
    "#Extractiing aggregated transactions\n",
    "for i in Agg_trans_list:\n",
    "    p_i=path1 + i + '/'   \n",
    "    agg_yr=os.listdir(p_i)   \n",
    "    \n",
    "    for j in agg_yr:\n",
    "        p_j=p_i + j + '/'\n",
    "        agg_yr=os.listdir(p_j)\n",
    "        \n",
    "        for k in agg_yr:\n",
    "            p_k = p_j + k          \n",
    "            data = open(p_k,'r')\n",
    "            D=json.load(data)\n",
    "            \n",
    "            for x in D['data']['transactionData']:\n",
    "                # print(x)\n",
    "                Transaction_Type = x['name']\n",
    "                Transaction_count = x['paymentInstruments'][0]['count']\n",
    "                Transaction_amount = x['paymentInstruments'][0]['amount']\n",
    "                \n",
    "                col_at['State'].append(i)\n",
    "                col_at['Year'].append(j)\n",
    "                col_at['Quarter'].append(int(k.strip('.json')))\n",
    "                col_at['Transaction_Type'].append(Transaction_Type)\n",
    "                col_at['Transaction_count'].append(Transaction_count)\n",
    "                col_at['Transaction_amount'].append(Transaction_amount)\n",
    "                # print(i,j,k,Transaction_Type,Transaction_count,Transaction_amount)\n",
    "\n",
    "Aggr_trans = pd.DataFrame(col_at)\n",
    "# Aggr_trans              \n",
    "            \n",
    "        \n",
    " "
   ]
  },
  {
   "cell_type": "code",
   "execution_count": null,
   "metadata": {},
   "outputs": [],
   "source": [
    "len(Aggr_trans['State'].unique())"
   ]
  },
  {
   "cell_type": "code",
   "execution_count": null,
   "metadata": {},
   "outputs": [],
   "source": [
    "Aggr_trans.shape"
   ]
  },
  {
   "cell_type": "markdown",
   "metadata": {},
   "source": [
    "Dataframe of aggregated user"
   ]
  },
  {
   "cell_type": "code",
   "execution_count": null,
   "metadata": {},
   "outputs": [],
   "source": [
    "#User\n",
    "path2=\"D:/DataScience/Phonepe_Pulse_Data_Visualization_and_Exploration/pulse/data/aggregated/user/country/india/state/\"\n",
    "Agg_user_list=os.listdir(path2)\n",
    "# Agg_user_list"
   ]
  },
  {
   "cell_type": "code",
   "execution_count": null,
   "metadata": {},
   "outputs": [],
   "source": [
    "col_au = {'State':[],'Year':[],'Quarter':[],'brand':[],'count':[],'percentage':[]}\n",
    "#Extracting aggregated User\n",
    "for i in Agg_user_list:\n",
    "    p_i=path2 + i + '/'   \n",
    "    agg_yr=os.listdir(p_i)   \n",
    "    for j in agg_yr:\n",
    "        p_j=p_i + j + '/'   \n",
    "        agg_yr=os.listdir(p_j)\n",
    "        for k in agg_yr:\n",
    "            p_k = p_j + k          \n",
    "            data = open(p_k,'r')\n",
    "            D=json.load(data)\n",
    "            # print(D)\n",
    "            try:\n",
    "                for x in D['data']['usersByDevice']:\n",
    "                    # print(x)\n",
    "                    brand = x['brand']\n",
    "                    count = x['count']\n",
    "                    percentage = x['percentage']\n",
    "                \n",
    "                    col_au['State'].append(i)\n",
    "                    col_au['Year'].append(j)\n",
    "                    col_au['Quarter'].append(k.strip('.json'))\n",
    "                    col_au['brand'].append(brand)\n",
    "                    col_au['count'].append(count)\n",
    "                    col_au['percentage'].append(percentage)\n",
    "                    # print(i,j,k,Transaction_Type,Transaction_count,Transaction_amount)\n",
    "            except:\n",
    "                pass\n",
    "\n",
    "\n",
    "Aggr_user = pd.DataFrame(col_au)\n",
    "# Aggr_user      \n",
    "            "
   ]
  },
  {
   "cell_type": "code",
   "execution_count": null,
   "metadata": {},
   "outputs": [],
   "source": [
    "Aggr_user.shape"
   ]
  },
  {
   "cell_type": "markdown",
   "metadata": {},
   "source": [
    "Dataframe of map transactions"
   ]
  },
  {
   "cell_type": "code",
   "execution_count": 4,
   "metadata": {},
   "outputs": [],
   "source": [
    "#map/transaction\n",
    "path3=\"D:/DataScience/Phonepe_Pulse_Data_Visualization_and_Exploration/pulse/data/map/transaction/hover/country/india/state/\"\n",
    "map_trans_list=os.listdir(path3)\n",
    "# map_trans_list"
   ]
  },
  {
   "cell_type": "code",
   "execution_count": 71,
   "metadata": {},
   "outputs": [
    {
     "data": {
      "text/html": [
       "<div>\n",
       "<style scoped>\n",
       "    .dataframe tbody tr th:only-of-type {\n",
       "        vertical-align: middle;\n",
       "    }\n",
       "\n",
       "    .dataframe tbody tr th {\n",
       "        vertical-align: top;\n",
       "    }\n",
       "\n",
       "    .dataframe thead th {\n",
       "        text-align: right;\n",
       "    }\n",
       "</style>\n",
       "<table border=\"1\" class=\"dataframe\">\n",
       "  <thead>\n",
       "    <tr style=\"text-align: right;\">\n",
       "      <th></th>\n",
       "      <th>State</th>\n",
       "      <th>District</th>\n",
       "      <th>Year</th>\n",
       "      <th>Quarter</th>\n",
       "      <th>Transaction_Type</th>\n",
       "      <th>Transaction_count</th>\n",
       "      <th>Transaction_amount</th>\n",
       "    </tr>\n",
       "  </thead>\n",
       "  <tbody>\n",
       "    <tr>\n",
       "      <th>0</th>\n",
       "      <td>andaman-&amp;-nicobar-islands</td>\n",
       "      <td>north and middle andaman</td>\n",
       "      <td>2018</td>\n",
       "      <td>1</td>\n",
       "      <td>TOTAL</td>\n",
       "      <td>442</td>\n",
       "      <td>9.316631e+05</td>\n",
       "    </tr>\n",
       "    <tr>\n",
       "      <th>1</th>\n",
       "      <td>andaman-&amp;-nicobar-islands</td>\n",
       "      <td>south andaman</td>\n",
       "      <td>2018</td>\n",
       "      <td>1</td>\n",
       "      <td>TOTAL</td>\n",
       "      <td>5688</td>\n",
       "      <td>1.256025e+07</td>\n",
       "    </tr>\n",
       "    <tr>\n",
       "      <th>2</th>\n",
       "      <td>andaman-&amp;-nicobar-islands</td>\n",
       "      <td>nicobars</td>\n",
       "      <td>2018</td>\n",
       "      <td>1</td>\n",
       "      <td>TOTAL</td>\n",
       "      <td>528</td>\n",
       "      <td>1.139849e+06</td>\n",
       "    </tr>\n",
       "    <tr>\n",
       "      <th>3</th>\n",
       "      <td>andaman-&amp;-nicobar-islands</td>\n",
       "      <td>north and middle andaman</td>\n",
       "      <td>2018</td>\n",
       "      <td>2</td>\n",
       "      <td>TOTAL</td>\n",
       "      <td>825</td>\n",
       "      <td>1.317863e+06</td>\n",
       "    </tr>\n",
       "    <tr>\n",
       "      <th>4</th>\n",
       "      <td>andaman-&amp;-nicobar-islands</td>\n",
       "      <td>south andaman</td>\n",
       "      <td>2018</td>\n",
       "      <td>2</td>\n",
       "      <td>TOTAL</td>\n",
       "      <td>9395</td>\n",
       "      <td>2.394824e+07</td>\n",
       "    </tr>\n",
       "    <tr>\n",
       "      <th>...</th>\n",
       "      <td>...</td>\n",
       "      <td>...</td>\n",
       "      <td>...</td>\n",
       "      <td>...</td>\n",
       "      <td>...</td>\n",
       "      <td>...</td>\n",
       "      <td>...</td>\n",
       "    </tr>\n",
       "    <tr>\n",
       "      <th>18291</th>\n",
       "      <td>west-bengal</td>\n",
       "      <td>nadia</td>\n",
       "      <td>2024</td>\n",
       "      <td>1</td>\n",
       "      <td>TOTAL</td>\n",
       "      <td>42154481</td>\n",
       "      <td>7.903014e+10</td>\n",
       "    </tr>\n",
       "    <tr>\n",
       "      <th>18292</th>\n",
       "      <td>west-bengal</td>\n",
       "      <td>birbhum</td>\n",
       "      <td>2024</td>\n",
       "      <td>1</td>\n",
       "      <td>TOTAL</td>\n",
       "      <td>24812300</td>\n",
       "      <td>4.640025e+10</td>\n",
       "    </tr>\n",
       "    <tr>\n",
       "      <th>18293</th>\n",
       "      <td>west-bengal</td>\n",
       "      <td>purba medinipur</td>\n",
       "      <td>2024</td>\n",
       "      <td>1</td>\n",
       "      <td>TOTAL</td>\n",
       "      <td>46212626</td>\n",
       "      <td>9.237355e+10</td>\n",
       "    </tr>\n",
       "    <tr>\n",
       "      <th>18294</th>\n",
       "      <td>west-bengal</td>\n",
       "      <td>maldah</td>\n",
       "      <td>2024</td>\n",
       "      <td>1</td>\n",
       "      <td>TOTAL</td>\n",
       "      <td>42299563</td>\n",
       "      <td>7.671603e+10</td>\n",
       "    </tr>\n",
       "    <tr>\n",
       "      <th>18295</th>\n",
       "      <td>west-bengal</td>\n",
       "      <td>darjiling</td>\n",
       "      <td>2024</td>\n",
       "      <td>1</td>\n",
       "      <td>TOTAL</td>\n",
       "      <td>18129044</td>\n",
       "      <td>2.927784e+10</td>\n",
       "    </tr>\n",
       "  </tbody>\n",
       "</table>\n",
       "<p>18296 rows × 7 columns</p>\n",
       "</div>"
      ],
      "text/plain": [
       "                           State                  District  Year Quarter  \\\n",
       "0      andaman-&-nicobar-islands  north and middle andaman  2018       1   \n",
       "1      andaman-&-nicobar-islands             south andaman  2018       1   \n",
       "2      andaman-&-nicobar-islands                  nicobars  2018       1   \n",
       "3      andaman-&-nicobar-islands  north and middle andaman  2018       2   \n",
       "4      andaman-&-nicobar-islands             south andaman  2018       2   \n",
       "...                          ...                       ...   ...     ...   \n",
       "18291                west-bengal                     nadia  2024       1   \n",
       "18292                west-bengal                   birbhum  2024       1   \n",
       "18293                west-bengal           purba medinipur  2024       1   \n",
       "18294                west-bengal                    maldah  2024       1   \n",
       "18295                west-bengal                 darjiling  2024       1   \n",
       "\n",
       "      Transaction_Type  Transaction_count  Transaction_amount  \n",
       "0                TOTAL                442        9.316631e+05  \n",
       "1                TOTAL               5688        1.256025e+07  \n",
       "2                TOTAL                528        1.139849e+06  \n",
       "3                TOTAL                825        1.317863e+06  \n",
       "4                TOTAL               9395        2.394824e+07  \n",
       "...                ...                ...                 ...  \n",
       "18291            TOTAL           42154481        7.903014e+10  \n",
       "18292            TOTAL           24812300        4.640025e+10  \n",
       "18293            TOTAL           46212626        9.237355e+10  \n",
       "18294            TOTAL           42299563        7.671603e+10  \n",
       "18295            TOTAL           18129044        2.927784e+10  \n",
       "\n",
       "[18296 rows x 7 columns]"
      ]
     },
     "execution_count": 71,
     "metadata": {},
     "output_type": "execute_result"
    }
   ],
   "source": [
    "col_mt = {'State':[],'District':[],'Year':[],'Quarter':[],'Transaction_Type':[],'Transaction_count':[],'Transaction_amount':[]}\n",
    "#Extractiing map transactions\n",
    "for i in map_trans_list:\n",
    "    p_i=path3 + i + '/'   \n",
    "    agg_yr=os.listdir(p_i)   \n",
    "    \n",
    "    for j in agg_yr:\n",
    "        p_j=p_i + j + '/'\n",
    "        agg_yr=os.listdir(p_j)\n",
    "        \n",
    "        for k in agg_yr:\n",
    "            p_k = p_j + k          \n",
    "            data = open(p_k,'r')\n",
    "            D=json.load(data)\n",
    "            \n",
    "            for x in D['data']['hoverDataList']:\n",
    "                # print(x)\n",
    "                # print(x['name'].replace(' district',''))\n",
    "                Transaction_Type = x['metric'][0]['type']\n",
    "                Transaction_count = x['metric'][0]['count']\n",
    "                Transaction_amount = x['metric'][0]['amount']\n",
    "                District = x['name'].replace(' district','')\n",
    "\n",
    "                col_mt['State'].append(i)\n",
    "                col_mt['District'].append(District)\n",
    "                col_mt['Year'].append(j)\n",
    "                col_mt['Quarter'].append(k.strip('.json'))\n",
    "                col_mt['Transaction_Type'].append(Transaction_Type)\n",
    "                col_mt['Transaction_count'].append(Transaction_count)\n",
    "                col_mt['Transaction_amount'].append(Transaction_amount)\n",
    "                # print(i,j,k,Transaction_Type,Transaction_count,Transaction_amount)\n",
    "\n",
    "Map_trans = pd.DataFrame(col_mt)\n",
    "Map_trans             \n",
    "            "
   ]
  },
  {
   "cell_type": "code",
   "execution_count": 78,
   "metadata": {},
   "outputs": [],
   "source": [
    "import mysql.connector\n",
    "from mysql.connector import Error\n",
    "import pandas as pd  # Ensure you have pandas imported\n",
    "\n",
    "def connect_to_mysql():\n",
    "    \"\"\"Establish a connection to the MySQL database.\"\"\"\n",
    "    try:\n",
    "        connection = mysql.connector.connect(\n",
    "            host='199.79.63.133',\n",
    "            user='sgptrrzs_phonepe',\n",
    "            password='G3EJxwK42zmYFuzrBQrhBQz'\n",
    "        )\n",
    "        return connection\n",
    "    except Error as e:\n",
    "        print(f\"Error: {e}\")\n",
    "        return None\n",
    "\n",
    "def create_map_trans_table(Map_trans):\n",
    "    connection = connect_to_mysql()\n",
    "    if connection is None:\n",
    "        print(\"Failed to connect to the database.\")\n",
    "        return\n",
    "    \n",
    "    try:\n",
    "        cursor = connection.cursor()\n",
    "        \n",
    "        # Use the database\n",
    "        cursor.execute(\"USE sgptrrzs_phonepe\")\n",
    "        \n",
    "        # Create table if it does not exist\n",
    "        create_Map_trans = '''\n",
    "        CREATE TABLE IF NOT EXISTS Map_trans (\n",
    "            slno BIGINT NOT NULL AUTO_INCREMENT PRIMARY KEY,\n",
    "            State VARCHAR(100),\n",
    "            District VARCHAR(100),\n",
    "            Year INT,\n",
    "            Quarter INT,\n",
    "            Transaction_Type VARCHAR(100),\n",
    "            Transaction_count INT,\n",
    "            Transaction_amount DOUBLE\n",
    "        )\n",
    "        '''\n",
    "        cursor.execute(create_Map_trans)\n",
    "        \n",
    "        # Insert data into the table\n",
    "        insert_Map_trans = '''\n",
    "        INSERT IGNORE INTO Map_trans (\n",
    "            State, District, Year, Quarter, Transaction_Type, Transaction_count, Transaction_amount\n",
    "        ) VALUES (%s, %s, %s, %s, %s, %s, %s)\n",
    "        '''\n",
    "        \n",
    "        # Prepare data for insertion\n",
    "        for i, row in Map_trans.iterrows():\n",
    "            print(tuple(row))\n",
    "            cursor.execute(insert_Map_trans, tuple(row))\n",
    "\n",
    "        # Commit changes\n",
    "        connection.commit()\n",
    "        \n",
    "        print(\"Table created and data inserted successfully.\")\n",
    "    \n",
    "    except Error as e:\n",
    "        print(f\"Error while creating table or inserting data: {e}\")\n",
    "    \n",
    "    finally:\n",
    "        if cursor:\n",
    "            cursor.close()\n",
    "        if connection.is_connected():\n",
    "            connection.close()\n",
    "            print(\"MySQL connection is closed\")\n"
   ]
  },
  {
   "cell_type": "code",
   "execution_count": 76,
   "metadata": {},
   "outputs": [
    {
     "ename": "AttributeError",
     "evalue": "'NoneType' object has no attribute 'execute'",
     "output_type": "error",
     "traceback": [
      "\u001b[1;31m---------------------------------------------------------------------------\u001b[0m",
      "\u001b[1;31mAttributeError\u001b[0m                            Traceback (most recent call last)",
      "Cell \u001b[1;32mIn[76], line 4\u001b[0m\n\u001b[0;32m      2\u001b[0m connect_to_mysql()\n\u001b[0;32m      3\u001b[0m create_Map_trans\u001b[38;5;241m=\u001b[39m\u001b[38;5;124m'''\u001b[39m\u001b[38;5;124mcreate table if not exists Map_trans (slno bigint NOT NULL AUTO_INCREMENT primary key,State varchar(100),District varchar(100),Year int,Quarter int,Transaction_Type varchar(100),Transaction_count int,Transaction_amount double)\u001b[39m\u001b[38;5;124m'''\u001b[39m\n\u001b[1;32m----> 4\u001b[0m \u001b[43mcursor\u001b[49m\u001b[38;5;241;43m.\u001b[39;49m\u001b[43mexecute\u001b[49m(create_Map_trans)\n\u001b[0;32m      5\u001b[0m conn\u001b[38;5;241m.\u001b[39mcommit()\n\u001b[0;32m      6\u001b[0m cursor\u001b[38;5;241m.\u001b[39mclose()\n",
      "\u001b[1;31mAttributeError\u001b[0m: 'NoneType' object has no attribute 'execute'"
     ]
    }
   ],
   "source": [
    "# Creating map_trans table\n",
    "connect_to_mysql()\n",
    "create_Map_trans='''create table if not exists Map_trans (slno bigint NOT NULL AUTO_INCREMENT primary key,State varchar(100),District varchar(100),Year int,Quarter int,Transaction_Type varchar(100),Transaction_count int,Transaction_amount double)'''\n",
    "cursor.execute(create_Map_trans)\n",
    "conn.commit()\n",
    "cursor.close()\n",
    "conn.close()\n"
   ]
  },
  {
   "cell_type": "code",
   "execution_count": 52,
   "metadata": {},
   "outputs": [
    {
     "ename": "InternalError",
     "evalue": "Unread result found",
     "output_type": "error",
     "traceback": [
      "\u001b[1;31m---------------------------------------------------------------------------\u001b[0m",
      "\u001b[1;31mInternalError\u001b[0m                             Traceback (most recent call last)",
      "Cell \u001b[1;32mIn[52], line 4\u001b[0m\n\u001b[0;32m      2\u001b[0m     insert_Map_trans \u001b[38;5;241m=\u001b[39m \u001b[38;5;124m\"\u001b[39m\u001b[38;5;124mINSERT IGNORE into Map_trans (State,Year,Quarter,Transaction_Type,Transaction_count,Transaction_amount) values (\u001b[39m\u001b[38;5;132;01m%s\u001b[39;00m\u001b[38;5;124m,\u001b[39m\u001b[38;5;132;01m%s\u001b[39;00m\u001b[38;5;124m,\u001b[39m\u001b[38;5;132;01m%s\u001b[39;00m\u001b[38;5;124m,\u001b[39m\u001b[38;5;132;01m%s\u001b[39;00m\u001b[38;5;124m,\u001b[39m\u001b[38;5;132;01m%s\u001b[39;00m\u001b[38;5;124m,\u001b[39m\u001b[38;5;132;01m%s\u001b[39;00m\u001b[38;5;124m)\u001b[39m\u001b[38;5;124m\"\u001b[39m\n\u001b[0;32m      3\u001b[0m     \u001b[38;5;66;03m# print(insert_Map_trans)\u001b[39;00m\n\u001b[1;32m----> 4\u001b[0m     \u001b[43mcursor\u001b[49m\u001b[38;5;241;43m.\u001b[39;49m\u001b[43mexecute\u001b[49m\u001b[43m(\u001b[49m\u001b[43minsert_Map_trans\u001b[49m\u001b[43m,\u001b[49m\u001b[38;5;28;43mtuple\u001b[39;49m\u001b[43m(\u001b[49m\u001b[43mrow\u001b[49m\u001b[43m)\u001b[49m\u001b[43m)\u001b[49m\n\u001b[0;32m      5\u001b[0m     conn\u001b[38;5;241m.\u001b[39mcommit()\n\u001b[0;32m      6\u001b[0m cursor\u001b[38;5;241m.\u001b[39mclose()\n",
      "File \u001b[1;32m~\\AppData\\Local\\Packages\\PythonSoftwareFoundation.Python.3.11_qbz5n2kfra8p0\\LocalCache\\local-packages\\Python311\\site-packages\\mysql\\connector\\cursor.py:521\u001b[0m, in \u001b[0;36mMySQLCursor.execute\u001b[1;34m(self, operation, params, multi)\u001b[0m\n\u001b[0;32m    518\u001b[0m \u001b[38;5;28;01mif\u001b[39;00m \u001b[38;5;129;01mnot\u001b[39;00m \u001b[38;5;28mself\u001b[39m\u001b[38;5;241m.\u001b[39m_connection:\n\u001b[0;32m    519\u001b[0m     \u001b[38;5;28;01mraise\u001b[39;00m errors\u001b[38;5;241m.\u001b[39mProgrammingError(\u001b[38;5;124m\"\u001b[39m\u001b[38;5;124mCursor is not connected\u001b[39m\u001b[38;5;124m\"\u001b[39m)\n\u001b[1;32m--> 521\u001b[0m \u001b[38;5;28;43mself\u001b[39;49m\u001b[38;5;241;43m.\u001b[39;49m\u001b[43m_connection\u001b[49m\u001b[38;5;241;43m.\u001b[39;49m\u001b[43mhandle_unread_result\u001b[49m\u001b[43m(\u001b[49m\u001b[43m)\u001b[49m\n\u001b[0;32m    523\u001b[0m \u001b[38;5;28mself\u001b[39m\u001b[38;5;241m.\u001b[39m_reset_result()\n\u001b[0;32m    524\u001b[0m stmt \u001b[38;5;241m=\u001b[39m \u001b[38;5;124m'\u001b[39m\u001b[38;5;124m'\u001b[39m\n",
      "File \u001b[1;32m~\\AppData\\Local\\Packages\\PythonSoftwareFoundation.Python.3.11_qbz5n2kfra8p0\\LocalCache\\local-packages\\Python311\\site-packages\\mysql\\connector\\connection.py:1059\u001b[0m, in \u001b[0;36mMySQLConnection.handle_unread_result\u001b[1;34m(self)\u001b[0m\n\u001b[0;32m   1057\u001b[0m     \u001b[38;5;28mself\u001b[39m\u001b[38;5;241m.\u001b[39mconsume_results()\n\u001b[0;32m   1058\u001b[0m \u001b[38;5;28;01melif\u001b[39;00m \u001b[38;5;28mself\u001b[39m\u001b[38;5;241m.\u001b[39munread_result:\n\u001b[1;32m-> 1059\u001b[0m     \u001b[38;5;28;01mraise\u001b[39;00m errors\u001b[38;5;241m.\u001b[39mInternalError(\u001b[38;5;124m\"\u001b[39m\u001b[38;5;124mUnread result found\u001b[39m\u001b[38;5;124m\"\u001b[39m)\n",
      "\u001b[1;31mInternalError\u001b[0m: Unread result found"
     ]
    }
   ],
   "source": [
    "for i,row in Map_trans.iterrows():\n",
    "    insert_Map_trans = \"INSERT IGNORE into Map_trans (State,Year,Quarter,Transaction_Type,Transaction_count,Transaction_amount) values (%s,%s,%s,%s,%s,%s)\"\n",
    "    # print(insert_Map_trans)\n",
    "    cursor.execute(insert_Map_trans,tuple(row))\n",
    "    conn.commit()\n",
    "cursor.close()\n",
    "conn.close()"
   ]
  },
  {
   "cell_type": "markdown",
   "metadata": {},
   "source": [
    "Dataframe of map transactions"
   ]
  },
  {
   "cell_type": "code",
   "execution_count": null,
   "metadata": {},
   "outputs": [],
   "source": [
    "#map/user\n",
    "path4=\"D:/DataScience/Phonepe_Pulse_Data_Visualization_and_Exploration/pulse/data/map/user/hover/country/india/state/\"\n",
    "map_user_list=os.listdir(path4)\n",
    "# map_user_list"
   ]
  },
  {
   "cell_type": "code",
   "execution_count": null,
   "metadata": {},
   "outputs": [],
   "source": [
    "col_mu = {'State':[],'Year':[],'Quarter':[],'district':[],'registeredUsers':[],'appOpens':[]}\n",
    "#Extractiing map transactions\n",
    "for i in map_user_list:    \n",
    "    p_i=path4 + i + '/'   \n",
    "    agg_yr=os.listdir(p_i)   \n",
    "    \n",
    "    for j in agg_yr:        \n",
    "        p_j=p_i + j + '/'\n",
    "        agg_yr=os.listdir(p_j)\n",
    "        \n",
    "        for k in agg_yr:\n",
    "            p_k = p_j + k          \n",
    "            data = open(p_k,'r')\n",
    "            D=json.load(data)\n",
    "            for x in D['data']['hoverData'].items():                                \n",
    "                district = x[0]\n",
    "                registeredUsers = x[1]['registeredUsers']\n",
    "                appOpens = x[1]['appOpens']             \n",
    "                \n",
    "                col_mu['State'].append(i)\n",
    "                col_mu['Year'].append(j)\n",
    "                col_mu['Quarter'].append(k.strip('.json'))\n",
    "                col_mu['district'].append(district)\n",
    "                col_mu['registeredUsers'].append(registeredUsers)\n",
    "                col_mu['appOpens'].append(appOpens)\n",
    "                # print(i,j,k,Transaction_Type,Transaction_count,Transaction_amount)\n",
    "\n",
    "Map_users = pd.DataFrame(col_mu)\n",
    "# Map_users"
   ]
  },
  {
   "cell_type": "markdown",
   "metadata": {},
   "source": [
    "Dataframe of top transactions"
   ]
  },
  {
   "cell_type": "code",
   "execution_count": null,
   "metadata": {},
   "outputs": [],
   "source": [
    "#top/transactions\n",
    "path5=\"D:/DataScience/Phonepe_Pulse_Data_Visualization_and_Exploration/pulse/data/top/transaction/country/india/state/\"\n",
    "top_trans_list=os.listdir(path5)\n",
    "# top_trans_list"
   ]
  },
  {
   "cell_type": "code",
   "execution_count": null,
   "metadata": {},
   "outputs": [],
   "source": [
    "col_tt = {'State':[],'Year':[],'Quarter':[],'pincode':[],'Transaction_Type':[],'Transaction_count':[],'Transaction_amount':[]}\n",
    "#Extractiing top/transactions\n",
    "for i in top_trans_list:    \n",
    "    p_i=path5 + i + '/'   \n",
    "    agg_yr=os.listdir(p_i)   \n",
    "    \n",
    "    for j in agg_yr:        \n",
    "        p_j=p_i + j + '/'\n",
    "        agg_yr=os.listdir(p_j)\n",
    "        \n",
    "        for k in agg_yr:\n",
    "            p_k = p_j + k          \n",
    "            data = open(p_k,'r')\n",
    "            D=json.load(data)\n",
    "            for x in D['data']['pincodes']: \n",
    "                # print(x['metric']['type'])                               \n",
    "                pincode = x['entityName']\n",
    "                Transaction_Type = x['metric']['type']\n",
    "                Transaction_count = x['metric']['count']\n",
    "                Transaction_amount = x['metric']['amount']\n",
    "                \n",
    "                col_tt['State'].append(i)\n",
    "                col_tt['Year'].append(j)\n",
    "                col_tt['Quarter'].append(k.strip('.json'))\n",
    "                col_tt['pincode'].append(pincode)\n",
    "                col_tt['Transaction_Type'].append(Transaction_Type)\n",
    "                col_tt['Transaction_count'].append(Transaction_count)\n",
    "                col_tt['Transaction_amount'].append(Transaction_amount)\n",
    "                # print(i,j,k,Transaction_Type,Transaction_count,Transaction_amount)\n",
    "\n",
    "top_trans = pd.DataFrame(col_tt)\n",
    "# top_trans"
   ]
  },
  {
   "cell_type": "markdown",
   "metadata": {},
   "source": [
    "Dataframe of top users"
   ]
  },
  {
   "cell_type": "code",
   "execution_count": null,
   "metadata": {},
   "outputs": [],
   "source": [
    "#top/users\n",
    "path6=\"D:/DataScience/Phonepe_Pulse_Data_Visualization_and_Exploration/pulse/data/top/user/country/india/state/\"\n",
    "top_users_list=os.listdir(path6)\n",
    "# top_users_list"
   ]
  },
  {
   "cell_type": "code",
   "execution_count": null,
   "metadata": {},
   "outputs": [],
   "source": [
    "col_tu = {'State':[],'Year':[],'Quarter':[],'pincode':[],'registeredUsers':[]}\n",
    "#Extractiing top/users\n",
    "for i in top_users_list:    \n",
    "    p_i=path6 + i + '/'   \n",
    "    agg_yr=os.listdir(p_i)   \n",
    "    \n",
    "    for j in agg_yr:        \n",
    "        p_j=p_i + j + '/'\n",
    "        agg_yr=os.listdir(p_j)\n",
    "        \n",
    "        for k in agg_yr:\n",
    "            p_k = p_j + k          \n",
    "            data = open(p_k,'r')\n",
    "            D=json.load(data)\n",
    "            for x in D['data']['pincodes']: \n",
    "                pincode = x['name']\n",
    "                registeredUsers = x['registeredUsers']\n",
    "                col_tu['State'].append(i)\n",
    "                col_tu['Year'].append(j)\n",
    "                col_tu['Quarter'].append(k.strip('.json'))\n",
    "                col_tu['pincode'].append(pincode)\n",
    "                col_tu['registeredUsers'].append(registeredUsers)\n",
    "                 # print(i,j,k,Transaction_Type,Transaction_count,Transaction_amount)\n",
    "\n",
    "top_users = pd.DataFrame(col_tu)\n",
    "# top_users"
   ]
  },
  {
   "cell_type": "code",
   "execution_count": null,
   "metadata": {},
   "outputs": [],
   "source": [
    "#Establish connection\n",
    "# conn = mysql.connector.connect(\n",
    "#     host=\"localhost\",\n",
    "#     user=\"root\",\n",
    "#     password=\"Fiitjee@123\",\n",
    "#     # database=\"phonepe_pulse\"\n",
    "# )"
   ]
  },
  {
   "cell_type": "code",
   "execution_count": 79,
   "metadata": {},
   "outputs": [],
   "source": [
    "# # MySQL connection details\n",
    "# conn = mysql.connector.connect(\n",
    "#     'host': '199.79.63.133',\n",
    "#     'database': 'sgptrrzs_phonepe',\n",
    "#     'user': 'sgptrrzs_phonepe',\n",
    "#     'password': 'G3EJxwK42zmYFuzrBQrhBQz'\n",
    "# )\n",
    "\n",
    "conn = mysql.connector.connect(\n",
    "    host='199.79.63.133',\n",
    "    user='sgptrrzs_phonepe',    \n",
    "    password='G3EJxwK42zmYFuzrBQrhBQz' \n",
    ")\n",
    "\n",
    "if conn.is_connected():\n",
    "    # print(\"Successfully connected to the database\")\n",
    "\n",
    "    # Create a cursor object\n",
    "    cursor = conn.cursor()\n",
    "\n",
    "    # Create a new database if it does not exist\n",
    "    cursor.execute(\"CREATE DATABASE IF NOT EXISTS sgptrrzs_phonepe\")\n",
    "\n",
    "    # Switch to 'phonepe_pulse' database\n",
    "    cursor.execute(\"USE sgptrrzs_phonepe\")\n",
    "\n",
    "    # print(\"Database switched to 'sgptrrzs_phonepe'\")\n"
   ]
  },
  {
   "cell_type": "markdown",
   "metadata": {},
   "source": [
    "Creating Aggr_trans table"
   ]
  },
  {
   "cell_type": "code",
   "execution_count": null,
   "metadata": {},
   "outputs": [],
   "source": [
    "create_Aggr_trans='''create table if not exists Aggr_trans (slno bigint NOT NULL AUTO_INCREMENT primary key,State varchar(100),Year int,Quarter int,Transaction_Type varchar(100),Transaction_count int,Transaction_amount double)'''\n",
    "cursor.execute(create_Aggr_trans)\n",
    "conn.commit()"
   ]
  },
  {
   "cell_type": "markdown",
   "metadata": {},
   "source": [
    "Creating agg_user table"
   ]
  },
  {
   "cell_type": "code",
   "execution_count": null,
   "metadata": {},
   "outputs": [],
   "source": [
    "create_Aggr_user='''create table if not exists Aggr_user (slno bigint NOT NULL AUTO_INCREMENT primary key,State varchar(100),Year int,Quarter int,brand varchar(100),count int,percentage double)'''\n",
    "cursor.execute(create_Aggr_user)\n",
    "conn.commit()"
   ]
  },
  {
   "cell_type": "markdown",
   "metadata": {},
   "source": [
    "Creating map_trans table"
   ]
  },
  {
   "cell_type": "code",
   "execution_count": null,
   "metadata": {},
   "outputs": [],
   "source": [
    "create_Map_trans='''create table if not exists Map_trans (slno bigint NOT NULL AUTO_INCREMENT primary key,State varchar(100),Year int,Quarter int,Transaction_Type varchar(100),Transaction_count int,Transaction_amount double)'''\n",
    "cursor.execute(create_Map_trans)\n",
    "conn.commit()"
   ]
  },
  {
   "cell_type": "code",
   "execution_count": 80,
   "metadata": {},
   "outputs": [
    {
     "ename": "OperationalError",
     "evalue": "2055: Lost connection to MySQL server at '199.79.63.133:3306', system error: 10060 A connection attempt failed because the connected party did not properly respond after a period of time, or established connection failed because connected host has failed to respond",
     "output_type": "error",
     "traceback": [
      "\u001b[1;31m---------------------------------------------------------------------------\u001b[0m",
      "\u001b[1;31mTimeoutError\u001b[0m                              Traceback (most recent call last)",
      "File \u001b[1;32m~\\AppData\\Local\\Packages\\PythonSoftwareFoundation.Python.3.11_qbz5n2kfra8p0\\LocalCache\\local-packages\\Python311\\site-packages\\mysql\\connector\\network.py:241\u001b[0m, in \u001b[0;36mBaseMySQLSocket.recv_plain\u001b[1;34m(self)\u001b[0m\n\u001b[0;32m    240\u001b[0m \u001b[38;5;28;01mwhile\u001b[39;00m packet_len \u001b[38;5;241m<\u001b[39m \u001b[38;5;241m4\u001b[39m:\n\u001b[1;32m--> 241\u001b[0m     chunk \u001b[38;5;241m=\u001b[39m \u001b[38;5;28;43mself\u001b[39;49m\u001b[38;5;241;43m.\u001b[39;49m\u001b[43msock\u001b[49m\u001b[38;5;241;43m.\u001b[39;49m\u001b[43mrecv\u001b[49m\u001b[43m(\u001b[49m\u001b[38;5;241;43m4\u001b[39;49m\u001b[43m \u001b[49m\u001b[38;5;241;43m-\u001b[39;49m\u001b[43m \u001b[49m\u001b[43mpacket_len\u001b[49m\u001b[43m)\u001b[49m\n\u001b[0;32m    242\u001b[0m     \u001b[38;5;28;01mif\u001b[39;00m \u001b[38;5;129;01mnot\u001b[39;00m chunk:\n",
      "\u001b[1;31mTimeoutError\u001b[0m: [WinError 10060] A connection attempt failed because the connected party did not properly respond after a period of time, or established connection failed because connected host has failed to respond",
      "\nDuring handling of the above exception, another exception occurred:\n",
      "\u001b[1;31mOperationalError\u001b[0m                          Traceback (most recent call last)",
      "Cell \u001b[1;32mIn[80], line 5\u001b[0m\n\u001b[0;32m      3\u001b[0m \u001b[38;5;66;03m# print(insert_Map_trans)\u001b[39;00m\n\u001b[0;32m      4\u001b[0m cursor\u001b[38;5;241m.\u001b[39mexecute(insert_Map_trans,\u001b[38;5;28mtuple\u001b[39m(row))\n\u001b[1;32m----> 5\u001b[0m \u001b[43mconn\u001b[49m\u001b[38;5;241;43m.\u001b[39;49m\u001b[43mcommit\u001b[49m\u001b[43m(\u001b[49m\u001b[43m)\u001b[49m\n",
      "File \u001b[1;32m~\\AppData\\Local\\Packages\\PythonSoftwareFoundation.Python.3.11_qbz5n2kfra8p0\\LocalCache\\local-packages\\Python311\\site-packages\\mysql\\connector\\connection.py:852\u001b[0m, in \u001b[0;36mMySQLConnection.commit\u001b[1;34m(self)\u001b[0m\n\u001b[0;32m    850\u001b[0m \u001b[38;5;28;01mdef\u001b[39;00m \u001b[38;5;21mcommit\u001b[39m(\u001b[38;5;28mself\u001b[39m):\n\u001b[0;32m    851\u001b[0m \u001b[38;5;250m    \u001b[39m\u001b[38;5;124;03m\"\"\"Commit current transaction\"\"\"\u001b[39;00m\n\u001b[1;32m--> 852\u001b[0m     \u001b[38;5;28;43mself\u001b[39;49m\u001b[38;5;241;43m.\u001b[39;49m\u001b[43m_execute_query\u001b[49m\u001b[43m(\u001b[49m\u001b[38;5;124;43m\"\u001b[39;49m\u001b[38;5;124;43mCOMMIT\u001b[39;49m\u001b[38;5;124;43m\"\u001b[39;49m\u001b[43m)\u001b[49m\n",
      "File \u001b[1;32m~\\AppData\\Local\\Packages\\PythonSoftwareFoundation.Python.3.11_qbz5n2kfra8p0\\LocalCache\\local-packages\\Python311\\site-packages\\mysql\\connector\\connection.py:871\u001b[0m, in \u001b[0;36mMySQLConnection._execute_query\u001b[1;34m(self, query)\u001b[0m\n\u001b[0;32m    862\u001b[0m \u001b[38;5;250m\u001b[39m\u001b[38;5;124;03m\"\"\"Execute a query\u001b[39;00m\n\u001b[0;32m    863\u001b[0m \n\u001b[0;32m    864\u001b[0m \u001b[38;5;124;03mThis method simply calls cmd_query() after checking for unread\u001b[39;00m\n\u001b[1;32m   (...)\u001b[0m\n\u001b[0;32m    868\u001b[0m \u001b[38;5;124;03mReturns a dict()\u001b[39;00m\n\u001b[0;32m    869\u001b[0m \u001b[38;5;124;03m\"\"\"\u001b[39;00m\n\u001b[0;32m    870\u001b[0m \u001b[38;5;28mself\u001b[39m\u001b[38;5;241m.\u001b[39mhandle_unread_result()\n\u001b[1;32m--> 871\u001b[0m \u001b[38;5;28;43mself\u001b[39;49m\u001b[38;5;241;43m.\u001b[39;49m\u001b[43mcmd_query\u001b[49m\u001b[43m(\u001b[49m\u001b[43mquery\u001b[49m\u001b[43m)\u001b[49m\n",
      "File \u001b[1;32m~\\AppData\\Local\\Packages\\PythonSoftwareFoundation.Python.3.11_qbz5n2kfra8p0\\LocalCache\\local-packages\\Python311\\site-packages\\mysql\\connector\\connection.py:490\u001b[0m, in \u001b[0;36mMySQLConnection.cmd_query\u001b[1;34m(self, query, raw, buffered, raw_as_string)\u001b[0m\n\u001b[0;32m    488\u001b[0m \u001b[38;5;28;01mif\u001b[39;00m \u001b[38;5;129;01mnot\u001b[39;00m \u001b[38;5;28misinstance\u001b[39m(query, \u001b[38;5;28mbytes\u001b[39m):\n\u001b[0;32m    489\u001b[0m     query \u001b[38;5;241m=\u001b[39m query\u001b[38;5;241m.\u001b[39mencode(\u001b[38;5;124m'\u001b[39m\u001b[38;5;124mutf-8\u001b[39m\u001b[38;5;124m'\u001b[39m)\n\u001b[1;32m--> 490\u001b[0m result \u001b[38;5;241m=\u001b[39m \u001b[38;5;28mself\u001b[39m\u001b[38;5;241m.\u001b[39m_handle_result(\u001b[38;5;28;43mself\u001b[39;49m\u001b[38;5;241;43m.\u001b[39;49m\u001b[43m_send_cmd\u001b[49m\u001b[43m(\u001b[49m\u001b[43mServerCmd\u001b[49m\u001b[38;5;241;43m.\u001b[39;49m\u001b[43mQUERY\u001b[49m\u001b[43m,\u001b[49m\u001b[43m \u001b[49m\u001b[43mquery\u001b[49m\u001b[43m)\u001b[49m)\n\u001b[0;32m    492\u001b[0m \u001b[38;5;28;01mif\u001b[39;00m \u001b[38;5;28mself\u001b[39m\u001b[38;5;241m.\u001b[39m_have_next_result:\n\u001b[0;32m    493\u001b[0m     \u001b[38;5;28;01mraise\u001b[39;00m errors\u001b[38;5;241m.\u001b[39mInterfaceError(\n\u001b[0;32m    494\u001b[0m         \u001b[38;5;124m'\u001b[39m\u001b[38;5;124mUse cmd_query_iter for statements with multiple queries.\u001b[39m\u001b[38;5;124m'\u001b[39m)\n",
      "File \u001b[1;32m~\\AppData\\Local\\Packages\\PythonSoftwareFoundation.Python.3.11_qbz5n2kfra8p0\\LocalCache\\local-packages\\Python311\\site-packages\\mysql\\connector\\connection.py:267\u001b[0m, in \u001b[0;36mMySQLConnection._send_cmd\u001b[1;34m(self, command, argument, packet_number, packet, expect_response, compressed_packet_number)\u001b[0m\n\u001b[0;32m    265\u001b[0m \u001b[38;5;28;01mif\u001b[39;00m \u001b[38;5;129;01mnot\u001b[39;00m expect_response:\n\u001b[0;32m    266\u001b[0m     \u001b[38;5;28;01mreturn\u001b[39;00m \u001b[38;5;28;01mNone\u001b[39;00m\n\u001b[1;32m--> 267\u001b[0m \u001b[38;5;28;01mreturn\u001b[39;00m \u001b[38;5;28;43mself\u001b[39;49m\u001b[38;5;241;43m.\u001b[39;49m\u001b[43m_socket\u001b[49m\u001b[38;5;241;43m.\u001b[39;49m\u001b[43mrecv\u001b[49m\u001b[43m(\u001b[49m\u001b[43m)\u001b[49m\n",
      "File \u001b[1;32m~\\AppData\\Local\\Packages\\PythonSoftwareFoundation.Python.3.11_qbz5n2kfra8p0\\LocalCache\\local-packages\\Python311\\site-packages\\mysql\\connector\\network.py:269\u001b[0m, in \u001b[0;36mBaseMySQLSocket.recv_plain\u001b[1;34m(self)\u001b[0m\n\u001b[0;32m    267\u001b[0m     \u001b[38;5;28;01mreturn\u001b[39;00m packet\n\u001b[0;32m    268\u001b[0m \u001b[38;5;28;01mexcept\u001b[39;00m \u001b[38;5;167;01mIOError\u001b[39;00m \u001b[38;5;28;01mas\u001b[39;00m err:\n\u001b[1;32m--> 269\u001b[0m     \u001b[38;5;28;01mraise\u001b[39;00m errors\u001b[38;5;241m.\u001b[39mOperationalError(\n\u001b[0;32m    270\u001b[0m         errno\u001b[38;5;241m=\u001b[39m\u001b[38;5;241m2055\u001b[39m, values\u001b[38;5;241m=\u001b[39m(\u001b[38;5;28mself\u001b[39m\u001b[38;5;241m.\u001b[39mget_address(), _strioerror(err)))\n",
      "\u001b[1;31mOperationalError\u001b[0m: 2055: Lost connection to MySQL server at '199.79.63.133:3306', system error: 10060 A connection attempt failed because the connected party did not properly respond after a period of time, or established connection failed because connected host has failed to respond"
     ]
    }
   ],
   "source": [
    "for i,row in Map_trans.iterrows():\n",
    "    insert_Map_trans = \"INSERT IGNORE into Map_trans (State,District,Year,Quarter,Transaction_Type,Transaction_count,Transaction_amount) values (%s,%s,%s,%s,%s,%s,%s)\"\n",
    "    # print(insert_Map_trans)\n",
    "    cursor.execute(insert_Map_trans,tuple(row))\n",
    "    conn.commit()"
   ]
  },
  {
   "cell_type": "markdown",
   "metadata": {},
   "source": [
    "Creating map_user table"
   ]
  },
  {
   "cell_type": "code",
   "execution_count": null,
   "metadata": {},
   "outputs": [],
   "source": [
    "create_Map_user='''create table if not exists Map_user (slno bigint NOT NULL AUTO_INCREMENT primary key,State varchar(100),Year int,Quarter int,district varchar(100),registeredUsers int,appOpens int)'''\n",
    "cursor.execute(create_Map_user)\n",
    "conn.commit()"
   ]
  },
  {
   "cell_type": "markdown",
   "metadata": {},
   "source": [
    "Creating top_trans table"
   ]
  },
  {
   "cell_type": "code",
   "execution_count": null,
   "metadata": {},
   "outputs": [],
   "source": [
    "create_top_trans='''create table if not exists top_trans (slno bigint NOT NULL AUTO_INCREMENT primary key,State varchar(100),Year int,Quarter int,pincode int,Transaction_Type varchar(100),Transaction_count int,Transaction_amount double)'''\n",
    "cursor.execute(create_top_trans)\n",
    "conn.commit()"
   ]
  },
  {
   "cell_type": "markdown",
   "metadata": {},
   "source": [
    "Creating top_user table"
   ]
  },
  {
   "cell_type": "code",
   "execution_count": null,
   "metadata": {},
   "outputs": [],
   "source": [
    "create_top_users='''create table if not exists top_users (slno bigint NOT NULL AUTO_INCREMENT primary key,State varchar(100),Year int,Quarter int,pincode int,registeredUsers int)'''\n",
    "cursor.execute(create_top_users)\n",
    "conn.commit()"
   ]
  },
  {
   "cell_type": "markdown",
   "metadata": {},
   "source": [
    "List of tables"
   ]
  },
  {
   "cell_type": "code",
   "execution_count": null,
   "metadata": {},
   "outputs": [],
   "source": [
    "cursor.execute(\"SHOW TABLES\")\n",
    "tables = cursor.fetchall()\n",
    "print(tables)"
   ]
  }
 ],
 "metadata": {
  "kernelspec": {
   "display_name": "base",
   "language": "python",
   "name": "python3"
  },
  "language_info": {
   "codemirror_mode": {
    "name": "ipython",
    "version": 3
   },
   "file_extension": ".py",
   "mimetype": "text/x-python",
   "name": "python",
   "nbconvert_exporter": "python",
   "pygments_lexer": "ipython3",
   "version": "3.11.9"
  }
 },
 "nbformat": 4,
 "nbformat_minor": 2
}
